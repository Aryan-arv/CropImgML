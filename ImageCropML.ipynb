{
 "cells": [
  {
   "cell_type": "code",
   "execution_count": 1,
   "id": "ca70448a",
   "metadata": {},
   "outputs": [
    {
     "name": "stdout",
     "output_type": "stream",
     "text": [
      "Enhanced passport photo saved to C:/Users/Aryan/Desktop/edubricz/passport_image3.jpg\n"
     ]
    }
   ],
   "source": [
    "# Importing Required Modules \n",
    "import cv2\n",
    "import numpy as np\n",
    "from rembg import remove \n",
    "from PIL import Image \n",
    "\n",
    "def enhance_and_crop_passport_image(input_image_path, output_image_path, size_mm=(35, 45), dpi=300):\n",
    "\n",
    "    # Calculate passport size in pixels\n",
    "    size_pixels = (int(size_mm[0] * dpi / 25.4), int(size_mm[1] * dpi / 25.4))\n",
    "    \n",
    "    # Read the input image\n",
    "    img = cv2.imread(input_image_path)\n",
    "    if img is None:\n",
    "        print(\"Error: Unable to load the image.\")\n",
    "        return\n",
    "    \n",
    "    # Convert to grayscale for face detection\n",
    "    gray = cv2.cvtColor(img, cv2.COLOR_BGR2GRAY)\n",
    "    \n",
    "    # Use a pre-trained Haar Cascade for face detection\n",
    "    face_cascade = cv2.CascadeClassifier(cv2.data.haarcascades + 'haarcascade_frontalface_default.xml')\n",
    "    faces = face_cascade.detectMultiScale(gray, scaleFactor=1.1, minNeighbors=5, minSize=(30, 30))\n",
    "    \n",
    "    if len(faces) == 0:\n",
    "        print(\"No face detected in the image.\")\n",
    "        return\n",
    "    \n",
    "    # Select the largest detected face\n",
    "    x, y, w, h = max(faces, key=lambda rect: rect[2] * rect[3])\n",
    "    \n",
    "    # Add padding around the face for a better crop\n",
    "    padding = 0.3  # Add 30% padding\n",
    "    x = max(0, int(x - padding * w))\n",
    "    y = max(0, int(y - padding * h))\n",
    "    w = int(w * (1 + 2 * padding))\n",
    "    h = int(h * (1 + 2 * padding))\n",
    "    \n",
    "    # Crop the image around the face\n",
    "    cropped_img = img[y:y+h, x:x+w]\n",
    "    \n",
    "    # Resize the image using Lanczos interpolation for high quality\n",
    "    resized_img = cv2.resize(cropped_img, size_pixels, interpolation=cv2.INTER_LANCZOS4)\n",
    "    \n",
    "    # Enhance the image quality: apply sharpening\n",
    "    kernel = np.array([[0, -1, 0],\n",
    "                       [-1, 5, -1],\n",
    "                       [0, -1, 0]])\n",
    "    enhanced_img = cv2.filter2D(resized_img, -1, kernel)\n",
    "    \n",
    "    # Processing the image \n",
    "    input_image = enhanced_img \n",
    "\n",
    "    # Removing the background from the given Image \n",
    "    output_image = remove(input_image) \n",
    "    \n",
    "    # Save the enhanced passport photo\n",
    "    cv2.imwrite(output_image_path, output_image)\n",
    "    print(f\"Enhanced passport photo saved to {output_image_path}\")\n",
    "\n",
    "input_path = \"C:/Users/Aryan/Desktop/edubricz/3.jpg\"  \n",
    "output_path = \"C:/Users/Aryan/Desktop/edubricz/passport_image3.jpg\"  \n",
    "enhance_and_crop_passport_image(input_path, output_path)\n"
   ]
  },
  {
   "cell_type": "code",
   "execution_count": null,
   "id": "404fbc38",
   "metadata": {},
   "outputs": [],
   "source": []
  }
 ],
 "metadata": {
  "kernelspec": {
   "display_name": "Python 3 (ipykernel)",
   "language": "python",
   "name": "python3"
  },
  "language_info": {
   "codemirror_mode": {
    "name": "ipython",
    "version": 3
   },
   "file_extension": ".py",
   "mimetype": "text/x-python",
   "name": "python",
   "nbconvert_exporter": "python",
   "pygments_lexer": "ipython3",
   "version": "3.9.12"
  }
 },
 "nbformat": 4,
 "nbformat_minor": 5
}
